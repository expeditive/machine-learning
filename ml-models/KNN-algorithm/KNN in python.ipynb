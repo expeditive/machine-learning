{
  "nbformat": 4,
  "nbformat_minor": 0,
  "metadata": {
    "colab": {
      "provenance": [],
      "authorship_tag": "ABX9TyO+Ck5pXy92ISend3TAJqr/",
      "include_colab_link": true
    },
    "kernelspec": {
      "name": "python3",
      "display_name": "Python 3"
    },
    "language_info": {
      "name": "python"
    }
  },
  "cells": [
    {
      "cell_type": "markdown",
      "metadata": {
        "id": "view-in-github",
        "colab_type": "text"
      },
      "source": [
        "<a href=\"https://colab.research.google.com/github/expeditive/machine-learning/blob/main/ml-models/KNN-algorithm/KNN%20in%20python.ipynb\" target=\"_parent\"><img src=\"https://colab.research.google.com/assets/colab-badge.svg\" alt=\"Open In Colab\"/></a>"
      ]
    },
    {
      "cell_type": "code",
      "execution_count": null,
      "metadata": {
        "id": "xefJNnogTHVx"
      },
      "outputs": [],
      "source": [
        "import numpy as np\n",
        "import statistics\n"
      ]
    },
    {
      "cell_type": "markdown",
      "source": [
        "# **K nearest Nieghbour Classifier**"
      ],
      "metadata": {
        "id": "zPCpHVJaTnrx"
      }
    },
    {
      "cell_type": "code",
      "source": [
        "class KNN_classifier():\n",
        "\n",
        "  #getting the parameters\n",
        "  def __init__(self,distance_metric):\n",
        "\n",
        "    self.distance_metric = distance_metric\n",
        "\n",
        "\n",
        "  #getting the distance metric\n",
        "  def get_distance_metric(self,training_data_point,test_data_point):\n",
        "\n",
        "    if (self.distance_metric=='euclidian'):\n",
        "      dist = 0\n",
        "\n",
        "      for i in range(len(training_data_point)-1):\n",
        "        dist = dist + (training_data_point[i]-test_data_point[i])**2\n",
        "\n",
        "      euclidian_dist = np.sqrt(dist)\n",
        "      return euclidian_dist\n",
        "\n",
        "    elif (self.distance_metric=='manhattan'):\n",
        "\n",
        "      dist = 0\n",
        "\n",
        "      for i in range(len(training_data_point)-1):\n",
        "        dist = dist + abs(training_data_point[i]-test_data_point[i])\n",
        "\n",
        "      manhattan_dist = dist\n",
        "      return manhattan_dist\n",
        "\n",
        "  #getting the nearest nieghbors\n",
        "  def nearest_nieghbors(self,X_train,test_data, k):\n",
        "\n",
        "    distance_list = []\n",
        "\n",
        "    for training_data in X_train:\n",
        "\n",
        "      distance = self.get_distance_metric(training_data,test_data) # find the distance between test data and all the data points\n",
        "      distance_list.append((training_data,distance)) # in list we store the data point and its distance from test data point\n",
        "\n",
        "    distance_list.sort(key=lambda x:x[1]) #x[0]--> training_data , x[1]--> distance (we have to sort by distance)\n",
        "\n",
        "    nieghbors_list = []\n",
        "\n",
        "    for j in range(k):\n",
        "      nieghbors_list.append(distance_list[j][0])\n",
        "\n",
        "    return nieghbors_list\n",
        "\n",
        "\n",
        "  #predict the class of new data point\n",
        "  def predict(self, X_train,test_data,k):\n",
        "\n",
        "    neighbors = self.nearest_nieghbors(X_train,test_data, k)\n",
        "\n",
        "    for data in neighbors:\n",
        "\n",
        "      label = []\n",
        "      label.append(data[-1])\n",
        "\n",
        "    predicted_class = statistics.mode(label)\n",
        "\n",
        "    return predicted_class\n"
      ],
      "metadata": {
        "id": "i7t-7JucTPde"
      },
      "execution_count": null,
      "outputs": []
    }
  ]
}