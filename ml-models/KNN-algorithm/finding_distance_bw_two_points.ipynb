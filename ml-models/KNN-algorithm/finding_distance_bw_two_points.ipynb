{
  "nbformat": 4,
  "nbformat_minor": 0,
  "metadata": {
    "colab": {
      "provenance": [],
      "authorship_tag": "ABX9TyMpllWVl7hE6qijSUh+Jof1",
      "include_colab_link": true
    },
    "kernelspec": {
      "name": "python3",
      "display_name": "Python 3"
    },
    "language_info": {
      "name": "python"
    }
  },
  "cells": [
    {
      "cell_type": "markdown",
      "metadata": {
        "id": "view-in-github",
        "colab_type": "text"
      },
      "source": [
        "<a href=\"https://colab.research.google.com/github/expeditive/machine-learning/blob/main/ml-models/KNN-algorithm/finding_distance_bw_two_points.ipynb\" target=\"_parent\"><img src=\"https://colab.research.google.com/assets/colab-badge.svg\" alt=\"Open In Colab\"/></a>"
      ]
    },
    {
      "cell_type": "markdown",
      "source": [
        "# **Euclidian distance**"
      ],
      "metadata": {
        "id": "bNAFNMsH1A1r"
      }
    },
    {
      "cell_type": "code",
      "source": [
        "import numpy as np"
      ],
      "metadata": {
        "id": "FK7upU0b2In4"
      },
      "execution_count": null,
      "outputs": []
    },
    {
      "cell_type": "code",
      "execution_count": null,
      "metadata": {
        "id": "7vlBbDTLzxjQ"
      },
      "outputs": [],
      "source": [
        "p1 = (1,1)\n",
        "\n",
        "p2 = (2,2)"
      ]
    },
    {
      "cell_type": "code",
      "source": [
        "point_dist = ((p1[0]-p2[0])**2) + ((p1[1]-p2[1])**2)"
      ],
      "metadata": {
        "id": "pNs_Z9OR0BcD"
      },
      "execution_count": null,
      "outputs": []
    },
    {
      "cell_type": "code",
      "source": [
        "point_dist = np.sqrt(point_dist)"
      ],
      "metadata": {
        "id": "6L6qhLnL0kJI"
      },
      "execution_count": null,
      "outputs": []
    },
    {
      "cell_type": "code",
      "source": [
        "print(point_dist)"
      ],
      "metadata": {
        "colab": {
          "base_uri": "https://localhost:8080/"
        },
        "id": "qmJpVcWa0ook",
        "outputId": "648b54f2-4904-4f0c-ed56-9325101a5d24"
      },
      "execution_count": null,
      "outputs": [
        {
          "output_type": "stream",
          "name": "stdout",
          "text": [
            "1.4142135623730951\n"
          ]
        }
      ]
    },
    {
      "cell_type": "code",
      "source": [
        "def euclid_dist(p1,p2):\n",
        "  dist = 0\n",
        "  for i in range(len(p1)):\n",
        "    dist = dist + (p1[i]-p2[i])**2\n",
        "\n",
        "  euclidian_distance = np.sqrt(dist)\n",
        "\n",
        "  print(euclidian_distance)\n"
      ],
      "metadata": {
        "id": "FdvsF-eM0_FY"
      },
      "execution_count": null,
      "outputs": []
    },
    {
      "cell_type": "code",
      "source": [
        "euclid_dist((2,3,4),(1,2,3))"
      ],
      "metadata": {
        "colab": {
          "base_uri": "https://localhost:8080/"
        },
        "id": "8Pnmy-Yp2Txz",
        "outputId": "cdebd201-024e-4cb6-b795-ebbbbd5bd661"
      },
      "execution_count": null,
      "outputs": [
        {
          "output_type": "stream",
          "name": "stdout",
          "text": [
            "1.7320508075688772\n"
          ]
        }
      ]
    },
    {
      "cell_type": "markdown",
      "source": [
        "# **Manhattan distance**"
      ],
      "metadata": {
        "id": "e-a35eqy2ak1"
      }
    },
    {
      "cell_type": "code",
      "source": [
        "def manhattan_dist(p1,p2):\n",
        "\n",
        "  dist = 0\n",
        "\n",
        "  for i in range(len(p1)):\n",
        "    dist = dist + abs(p1[i] - p2[i]) #abs --> absolute value\n",
        "\n",
        "  manhattan_dist = dist\n",
        "  print(manhattan_dist)"
      ],
      "metadata": {
        "id": "Soks9hp32Yae"
      },
      "execution_count": null,
      "outputs": []
    },
    {
      "cell_type": "code",
      "source": [
        "manhattan_dist((2,3),(4,5))"
      ],
      "metadata": {
        "colab": {
          "base_uri": "https://localhost:8080/"
        },
        "id": "qghV3PJ23WHo",
        "outputId": "76b605b0-16ba-4fee-c33e-c0702ac0c162"
      },
      "execution_count": null,
      "outputs": [
        {
          "output_type": "stream",
          "name": "stdout",
          "text": [
            "4\n"
          ]
        }
      ]
    }
  ]
}