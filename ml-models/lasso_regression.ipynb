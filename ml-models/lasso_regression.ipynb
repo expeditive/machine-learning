{
  "nbformat": 4,
  "nbformat_minor": 0,
  "metadata": {
    "colab": {
      "provenance": [],
      "authorship_tag": "ABX9TyN91Uw5Nnvyd5Sf34OBoc6x",
      "include_colab_link": true
    },
    "kernelspec": {
      "name": "python3",
      "display_name": "Python 3"
    },
    "language_info": {
      "name": "python"
    }
  },
  "cells": [
    {
      "cell_type": "markdown",
      "metadata": {
        "id": "view-in-github",
        "colab_type": "text"
      },
      "source": [
        "<a href=\"https://colab.research.google.com/github/expeditive/machine-learning/blob/main/ml-models/lasso_regression.ipynb\" target=\"_parent\"><img src=\"https://colab.research.google.com/assets/colab-badge.svg\" alt=\"Open In Colab\"/></a>"
      ]
    },
    {
      "cell_type": "code",
      "execution_count": null,
      "metadata": {
        "id": "ysP2v5wqzmUI"
      },
      "outputs": [],
      "source": [
        "import numpy as np\n",
        "\n",
        "class Lasso_Regression():\n",
        "\n",
        "  #initialize hyperparameters\n",
        "  def __init__(self,learning_rate,no_of_iterations,lambda_parameter):\n",
        "\n",
        "    self.learning_rate = learning_rate\n",
        "    self.no_of_iterations = no_of_iterations\n",
        "    self.lambda_parameter = lambda_parameter\n",
        "\n",
        "  #fitting the dataset to lasso regression\n",
        "  def fit(self,X,Y):\n",
        "\n",
        "    #m --> rows\n",
        "    #n --> faetures(columns)\n",
        "    self.m,self.n = X.shape\n",
        "\n",
        "    self.w  = np.zeros(self.n)\n",
        "    self.b = 0\n",
        "\n",
        "    self.X = X\n",
        "    self.Y = Y\n",
        "\n",
        "    #implementing the gradient descent\n",
        "    for i in range(self.no_of_iterations):\n",
        "      self.update_weights()\n",
        "\n",
        "\n",
        "  #updating the weight and bias value\n",
        "  def update_weights(self):\n",
        "\n",
        "    #linear equation of the model\n",
        "    Y_prediction = self.predict(self.X)\n",
        "\n",
        "    #gradient(dw,db)\n",
        "\n",
        "    #gradient for weight\n",
        "    dw = np.zeros(self.n)\n",
        "\n",
        "    for i in range(self.n):\n",
        "\n",
        "      if self.w[i] > 0 :\n",
        "\n",
        "        dw[i] = (-(2*(self.X[:,i]).dot(self.Y - Y_prediction))+ self.lambda_parameter) / self.m\n",
        "\n",
        "      else :\n",
        "\n",
        "        dw[i] = (-(2*(self.X[:,i]).dot(self.Y - Y_prediction)) - self.lambda_parameter) / self.m\n",
        "\n",
        "    #gradient for bias\n",
        "    db = - 2 * np.sum(self.Y - self.Y_prediction) / self.m\n",
        "\n",
        "    #updating the weight and bias\n",
        "    self.w = self.w - self.learning_rate*dw\n",
        "    self.b = self.b - self.learning_rate*db\n",
        "\n",
        "\n",
        "  #predicitng the target value\n",
        "  def predict(self,X):\n",
        "\n",
        "    return X.dot(self.w) + self.b"
      ]
    },
    {
      "cell_type": "code",
      "source": [],
      "metadata": {
        "id": "QQ0vxjjr7AYI"
      },
      "execution_count": null,
      "outputs": []
    }
  ]
}