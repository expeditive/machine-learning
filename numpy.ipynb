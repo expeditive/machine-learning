{
  "nbformat": 4,
  "nbformat_minor": 0,
  "metadata": {
    "colab": {
      "provenance": [],
      "authorship_tag": "ABX9TyOjbQuE0vvVMjEGZSes0fn6",
      "include_colab_link": true
    },
    "kernelspec": {
      "name": "python3",
      "display_name": "Python 3"
    },
    "language_info": {
      "name": "python"
    }
  },
  "cells": [
    {
      "cell_type": "markdown",
      "metadata": {
        "id": "view-in-github",
        "colab_type": "text"
      },
      "source": [
        "<a href=\"https://colab.research.google.com/github/expeditive/pylibraries/blob/main/numpy.ipynb\" target=\"_parent\"><img src=\"https://colab.research.google.com/assets/colab-badge.svg\" alt=\"Open In Colab\"/></a>"
      ]
    },
    {
      "cell_type": "markdown",
      "source": [
        "#numpy\n",
        "##advantages of numpy\n",
        "\n",
        "\n",
        "1.   math operations\n",
        "2.   faster operations\n",
        "\n",
        "\n"
      ],
      "metadata": {
        "id": "84NTzjTp_PA6"
      }
    },
    {
      "cell_type": "code",
      "source": [
        "import numpy as np"
      ],
      "metadata": {
        "id": "Ai8yd0Sv_oWP"
      },
      "execution_count": null,
      "outputs": []
    },
    {
      "cell_type": "markdown",
      "source": [
        "list vs numpy time taken"
      ],
      "metadata": {
        "id": "4TXWGHXBEwec"
      }
    },
    {
      "cell_type": "code",
      "source": [
        "from time import process_time"
      ],
      "metadata": {
        "id": "za1ouMXCE0zz"
      },
      "execution_count": null,
      "outputs": []
    },
    {
      "cell_type": "markdown",
      "source": [
        "time taken by a list"
      ],
      "metadata": {
        "id": "PYKF6ZNbFSlR"
      }
    },
    {
      "cell_type": "code",
      "source": [
        "python_list = [i for i in range(10000)]\n",
        "start_time = process_time()\n",
        "python_list = [i+5 for i in python_list]\n",
        "end_time = process_time()\n",
        "\n",
        "time_taken = (end_time - start_time)\n",
        "print(time_taken)"
      ],
      "metadata": {
        "colab": {
          "base_uri": "https://localhost:8080/"
        },
        "id": "G5FK9_6_FVgA",
        "outputId": "3847b20b-cdb1-4f5e-d704-ebf1a10ecd9b"
      },
      "execution_count": null,
      "outputs": [
        {
          "output_type": "stream",
          "name": "stdout",
          "text": [
            "0.0004618449999966856\n"
          ]
        }
      ]
    },
    {
      "cell_type": "code",
      "source": [
        "np_array = np.array([i for i in range(10000)])\n",
        "start_time = process_time()\n",
        "np_array += 5\n",
        "end_time = process_time()\n",
        "\n",
        "print(end_time-start_time)"
      ],
      "metadata": {
        "colab": {
          "base_uri": "https://localhost:8080/"
        },
        "id": "RemBR8ibGK3z",
        "outputId": "7b894e35-cd6d-49ea-cc8d-b92e64521bed"
      },
      "execution_count": null,
      "outputs": [
        {
          "output_type": "stream",
          "name": "stdout",
          "text": [
            "0.00019225699999836365\n"
          ]
        }
      ]
    },
    {
      "cell_type": "code",
      "source": [
        "#list\n",
        "list1 = [ 1, 3, 6, 8, 9]\n",
        "print(list1)\n",
        "type(list1)"
      ],
      "metadata": {
        "colab": {
          "base_uri": "https://localhost:8080/"
        },
        "id": "sc4OiDOaH3nv",
        "outputId": "5fbcee1a-5553-4a06-b225-e209dd1af5ef"
      },
      "execution_count": null,
      "outputs": [
        {
          "output_type": "stream",
          "name": "stdout",
          "text": [
            "[1, 3, 6, 8, 9]\n"
          ]
        },
        {
          "output_type": "execute_result",
          "data": {
            "text/plain": [
              "list"
            ]
          },
          "metadata": {},
          "execution_count": 11
        }
      ]
    },
    {
      "cell_type": "code",
      "source": [
        "#numpy array\n",
        "np_array = np.array([1, 3, 6, 8, 9])\n",
        "print(np_array)\n",
        "type(np_array)"
      ],
      "metadata": {
        "colab": {
          "base_uri": "https://localhost:8080/"
        },
        "id": "jn_84GSyIB61",
        "outputId": "710fb5a2-212c-4bae-cbde-b66d3f39aeff"
      },
      "execution_count": null,
      "outputs": [
        {
          "output_type": "stream",
          "name": "stdout",
          "text": [
            "[1 3 6 8 9]\n"
          ]
        },
        {
          "output_type": "execute_result",
          "data": {
            "text/plain": [
              "numpy.ndarray"
            ]
          },
          "metadata": {},
          "execution_count": 12
        }
      ]
    },
    {
      "cell_type": "code",
      "source": [
        "#creating  a 1d array as nupmy array are generating a matrice\n",
        "a = np.array([1,5,7,2])\n",
        "print(a)\n",
        "a.shape"
      ],
      "metadata": {
        "colab": {
          "base_uri": "https://localhost:8080/"
        },
        "id": "_Ij3mL7tIdiX",
        "outputId": "2e8d8191-0831-46df-a814-317eb910b406"
      },
      "execution_count": null,
      "outputs": [
        {
          "output_type": "stream",
          "name": "stdout",
          "text": [
            "[1 5 7 2]\n"
          ]
        },
        {
          "output_type": "execute_result",
          "data": {
            "text/plain": [
              "(4,)"
            ]
          },
          "metadata": {},
          "execution_count": 13
        }
      ]
    },
    {
      "cell_type": "code",
      "source": [
        "#creating a two dimensional array\n",
        "b = np.array([(1,2,4),(3,8,5)])\n",
        "print(b)\n",
        "b.shape"
      ],
      "metadata": {
        "colab": {
          "base_uri": "https://localhost:8080/"
        },
        "id": "OB8GTP6GIwJs",
        "outputId": "48eb76c6-8958-4dca-cb68-cfc74b1d783e"
      },
      "execution_count": null,
      "outputs": [
        {
          "output_type": "stream",
          "name": "stdout",
          "text": [
            "[[1 2 4]\n",
            " [3 8 5]]\n"
          ]
        },
        {
          "output_type": "execute_result",
          "data": {
            "text/plain": [
              "(2, 3)"
            ]
          },
          "metadata": {},
          "execution_count": 15
        }
      ]
    },
    {
      "cell_type": "code",
      "source": [
        "#specifying data type\n",
        "c = np.array([(1,2,5),(7,2,9)],dtype = float)\n",
        "print(c)"
      ],
      "metadata": {
        "colab": {
          "base_uri": "https://localhost:8080/"
        },
        "id": "4ULx6ij7JlQY",
        "outputId": "68aa0a39-5d2e-4038-fb71-4e9d38d99e43"
      },
      "execution_count": null,
      "outputs": [
        {
          "output_type": "stream",
          "name": "stdout",
          "text": [
            "[[1. 2. 5.]\n",
            " [7. 2. 9.]]\n"
          ]
        }
      ]
    },
    {
      "cell_type": "markdown",
      "source": [
        "##initial placeholder in numpy array"
      ],
      "metadata": {
        "id": "l3mgUi-0KOAL"
      }
    },
    {
      "cell_type": "code",
      "source": [
        "#creating a numpy array with initials zero\n",
        "z = np.zeros((3,3))\n",
        "print(z)"
      ],
      "metadata": {
        "colab": {
          "base_uri": "https://localhost:8080/"
        },
        "id": "PTB8tM4xKU5w",
        "outputId": "39acc1ab-23de-4301-a24f-7abf67f8266e"
      },
      "execution_count": null,
      "outputs": [
        {
          "output_type": "stream",
          "name": "stdout",
          "text": [
            "[[0. 0. 0.]\n",
            " [0. 0. 0.]\n",
            " [0. 0. 0.]]\n"
          ]
        }
      ]
    },
    {
      "cell_type": "code",
      "source": [
        "o = np.ones((2,3))\n",
        "print(o)"
      ],
      "metadata": {
        "colab": {
          "base_uri": "https://localhost:8080/"
        },
        "id": "ASFXo0roKqZ7",
        "outputId": "b6d95af1-8273-47d3-8fbf-e181f02ed317"
      },
      "execution_count": null,
      "outputs": [
        {
          "output_type": "stream",
          "name": "stdout",
          "text": [
            "[[1. 1. 1.]\n",
            " [1. 1. 1.]]\n"
          ]
        }
      ]
    },
    {
      "cell_type": "code",
      "source": [
        "#array of a particular value\n",
        "s = np.full((5,4),7)\n",
        "print(s)"
      ],
      "metadata": {
        "colab": {
          "base_uri": "https://localhost:8080/"
        },
        "id": "4UJu2neWLGPO",
        "outputId": "1787ba5e-4aba-446c-ec0e-20e23911c023"
      },
      "execution_count": null,
      "outputs": [
        {
          "output_type": "stream",
          "name": "stdout",
          "text": [
            "[[7 7 7 7]\n",
            " [7 7 7 7]\n",
            " [7 7 7 7]\n",
            " [7 7 7 7]\n",
            " [7 7 7 7]]\n"
          ]
        }
      ]
    },
    {
      "cell_type": "code",
      "source": [
        "#creating an identity matrix\n",
        "a = np.eye(4)\n",
        "print(a)"
      ],
      "metadata": {
        "colab": {
          "base_uri": "https://localhost:8080/"
        },
        "id": "3z4J0IBiLjrm",
        "outputId": "05b1c3fb-6899-4185-e294-86fcd90f16df"
      },
      "execution_count": null,
      "outputs": [
        {
          "output_type": "stream",
          "name": "stdout",
          "text": [
            "[[1. 0. 0. 0.]\n",
            " [0. 1. 0. 0.]\n",
            " [0. 0. 1. 0.]\n",
            " [0. 0. 0. 1.]]\n"
          ]
        }
      ]
    },
    {
      "cell_type": "code",
      "source": [
        "#creating array with random values\n",
        "b = np.random.random((3,4))\n",
        "print(b)"
      ],
      "metadata": {
        "colab": {
          "base_uri": "https://localhost:8080/"
        },
        "id": "wHtD4Pr5LzXo",
        "outputId": "a5697577-d72e-4de8-f913-91b865a085cf"
      },
      "execution_count": null,
      "outputs": [
        {
          "output_type": "stream",
          "name": "stdout",
          "text": [
            "[[0.40303553 0.73387386 0.02673812 0.09761266]\n",
            " [0.89013747 0.69230651 0.22997261 0.68216554]\n",
            " [0.61494588 0.34035598 0.50318991 0.59311891]]\n"
          ]
        }
      ]
    },
    {
      "cell_type": "code",
      "source": [
        "#creating random values but within specific range\n",
        "b = np.random.randint(10,35,(3,3))\n",
        "print(b)"
      ],
      "metadata": {
        "colab": {
          "base_uri": "https://localhost:8080/"
        },
        "id": "5cynzFp0MP8S",
        "outputId": "5ba8b4b7-dbcb-4773-ebfa-0bb9a396aee9"
      },
      "execution_count": null,
      "outputs": [
        {
          "output_type": "stream",
          "name": "stdout",
          "text": [
            "[[12 21 25]\n",
            " [24 23 20]\n",
            " [14 14 13]]\n"
          ]
        }
      ]
    },
    {
      "cell_type": "code",
      "source": [
        "# array of evenly spaced values --> specifying the numbers of values required\n",
        "d = np.linspace(10,30,5)\n",
        "print(d)"
      ],
      "metadata": {
        "colab": {
          "base_uri": "https://localhost:8080/"
        },
        "id": "ZEJq9egkNZMf",
        "outputId": "0aa12417-2e74-4bd0-9836-455617a54c6e"
      },
      "execution_count": null,
      "outputs": [
        {
          "output_type": "stream",
          "name": "stdout",
          "text": [
            "[10. 15. 20. 25. 30.]\n"
          ]
        }
      ]
    },
    {
      "cell_type": "code",
      "source": [
        "#array of evenly spaced values --> specifying the steps\n",
        "e = np.arange(10,35,5)\n",
        "print(e)"
      ],
      "metadata": {
        "colab": {
          "base_uri": "https://localhost:8080/"
        },
        "id": "PTnhA1SXN20_",
        "outputId": "df905e23-d8f2-4c42-8fd9-2160914b30d4"
      },
      "execution_count": null,
      "outputs": [
        {
          "output_type": "stream",
          "name": "stdout",
          "text": [
            "[10 15 20 25 30]\n"
          ]
        }
      ]
    },
    {
      "cell_type": "code",
      "source": [
        "#converting  list to numpy array\n",
        "list2 = [1,9,2,8,4,7]\n",
        "np_array = np.asarray(list2)\n",
        "print(np_array)\n",
        "type(np_array)"
      ],
      "metadata": {
        "colab": {
          "base_uri": "https://localhost:8080/"
        },
        "id": "-fLoQ50nOL0K",
        "outputId": "b38835ff-08dd-4d27-9008-d8b1f93b8a4a"
      },
      "execution_count": null,
      "outputs": [
        {
          "output_type": "stream",
          "name": "stdout",
          "text": [
            "[1 9 2 8 4 7]\n"
          ]
        },
        {
          "output_type": "execute_result",
          "data": {
            "text/plain": [
              "numpy.ndarray"
            ]
          },
          "metadata": {},
          "execution_count": 29
        }
      ]
    },
    {
      "cell_type": "markdown",
      "source": [
        "##analysing a numpy array"
      ],
      "metadata": {
        "id": "Ume4rX7ZO6Nb"
      }
    },
    {
      "cell_type": "code",
      "source": [
        "c = np.random.randint(10,90,(5,5))\n",
        "print(c)"
      ],
      "metadata": {
        "colab": {
          "base_uri": "https://localhost:8080/"
        },
        "id": "P0majKvxO-p1",
        "outputId": "4c890a1c-4d81-41bb-db0a-ebe8d2fb06d3"
      },
      "execution_count": null,
      "outputs": [
        {
          "output_type": "stream",
          "name": "stdout",
          "text": [
            "[[74 50 73 29 33]\n",
            " [43 48 63 89 83]\n",
            " [45 84 22 38 28]\n",
            " [51 26 27 66 39]\n",
            " [79 81 76 19 69]]\n"
          ]
        }
      ]
    },
    {
      "cell_type": "code",
      "source": [
        "#array dimensions\n",
        "print(c.shape)"
      ],
      "metadata": {
        "colab": {
          "base_uri": "https://localhost:8080/"
        },
        "id": "8qrVBiDFPMUN",
        "outputId": "c323f51c-e0c8-40de-d94a-0d8cdb4838b5"
      },
      "execution_count": null,
      "outputs": [
        {
          "output_type": "stream",
          "name": "stdout",
          "text": [
            "(5, 5)\n"
          ]
        }
      ]
    },
    {
      "cell_type": "code",
      "source": [
        "#number of dimensions\n",
        "print(c.ndim)"
      ],
      "metadata": {
        "colab": {
          "base_uri": "https://localhost:8080/"
        },
        "id": "mk86Li4pPUfz",
        "outputId": "328a35f3-2629-4770-b442-eddf60acebd5"
      },
      "execution_count": null,
      "outputs": [
        {
          "output_type": "stream",
          "name": "stdout",
          "text": [
            "2\n"
          ]
        }
      ]
    },
    {
      "cell_type": "code",
      "source": [
        "#number of elements in a array\n",
        "print(c.size)"
      ],
      "metadata": {
        "colab": {
          "base_uri": "https://localhost:8080/"
        },
        "id": "AlVSFispPcZw",
        "outputId": "ba6acb19-79de-4b33-92f5-3f53fb7d2368"
      },
      "execution_count": null,
      "outputs": [
        {
          "output_type": "stream",
          "name": "stdout",
          "text": [
            "25\n"
          ]
        }
      ]
    },
    {
      "cell_type": "code",
      "source": [
        "#checking dta type\n",
        "print(c.dtype)"
      ],
      "metadata": {
        "colab": {
          "base_uri": "https://localhost:8080/"
        },
        "id": "uBhDtWLnPqXs",
        "outputId": "13fda876-16de-4da7-a6fe-9905e7eee786"
      },
      "execution_count": null,
      "outputs": [
        {
          "output_type": "stream",
          "name": "stdout",
          "text": [
            "int64\n"
          ]
        }
      ]
    },
    {
      "cell_type": "markdown",
      "source": [
        "##maths operations\n",
        "\n"
      ],
      "metadata": {
        "id": "xW0bq8eOP5uG"
      }
    },
    {
      "cell_type": "code",
      "source": [
        "list1 = [1,6,3,8,3]\n",
        "list2 = [2,9,4,1,8]\n",
        "print(list1 + list2) #concatenation happens here"
      ],
      "metadata": {
        "colab": {
          "base_uri": "https://localhost:8080/"
        },
        "id": "zgUxKgiWQEbe",
        "outputId": "a86eb777-689a-46a1-e359-ff0ab985c4d9"
      },
      "execution_count": null,
      "outputs": [
        {
          "output_type": "stream",
          "name": "stdout",
          "text": [
            "[1, 6, 3, 8, 3, 2, 9, 4, 1, 8]\n"
          ]
        }
      ]
    },
    {
      "cell_type": "code",
      "source": [
        "a = np.random.randint(12,38,(4,4))\n",
        "b = np.random.randint(34,56,(4,4))\n",
        "print(a)\n",
        "print(b)"
      ],
      "metadata": {
        "colab": {
          "base_uri": "https://localhost:8080/"
        },
        "id": "qnc3j8BiQpuO",
        "outputId": "d3624489-3eaf-4ac6-d3b0-d576e4722ebe"
      },
      "execution_count": null,
      "outputs": [
        {
          "output_type": "stream",
          "name": "stdout",
          "text": [
            "[[29 36 20 34]\n",
            " [18 35 30 34]\n",
            " [26 16 18 17]\n",
            " [23 27 32 23]]\n",
            "[[47 47 43 55]\n",
            " [54 37 39 44]\n",
            " [47 53 44 52]\n",
            " [36 49 37 41]]\n"
          ]
        }
      ]
    },
    {
      "cell_type": "code",
      "source": [
        "print(a+b)\n",
        "print(a-b)\n",
        "print(a/b)\n",
        "print(a*b)"
      ],
      "metadata": {
        "colab": {
          "base_uri": "https://localhost:8080/"
        },
        "id": "80dpqHelQ-4T",
        "outputId": "47664b90-8583-4912-ea22-21adf67d9d04"
      },
      "execution_count": null,
      "outputs": [
        {
          "output_type": "stream",
          "name": "stdout",
          "text": [
            "[[76 83 63 89]\n",
            " [72 72 69 78]\n",
            " [73 69 62 69]\n",
            " [59 76 69 64]]\n",
            "[[-18 -11 -23 -21]\n",
            " [-36  -2  -9 -10]\n",
            " [-21 -37 -26 -35]\n",
            " [-13 -22  -5 -18]]\n",
            "[[0.61702128 0.76595745 0.46511628 0.61818182]\n",
            " [0.33333333 0.94594595 0.76923077 0.77272727]\n",
            " [0.55319149 0.30188679 0.40909091 0.32692308]\n",
            " [0.63888889 0.55102041 0.86486486 0.56097561]]\n",
            "[[1363 1692  860 1870]\n",
            " [ 972 1295 1170 1496]\n",
            " [1222  848  792  884]\n",
            " [ 828 1323 1184  943]]\n"
          ]
        }
      ]
    },
    {
      "cell_type": "code",
      "source": [
        "print(np.add(a,b))\n",
        "print(np.subtract(a,b))\n",
        "print(np.multiply(a,b))\n",
        "print(np.divide(a,b))"
      ],
      "metadata": {
        "colab": {
          "base_uri": "https://localhost:8080/"
        },
        "id": "btuHfZnPRkAS",
        "outputId": "35f81e43-8a75-44cc-e0af-0fa00b033215"
      },
      "execution_count": null,
      "outputs": [
        {
          "output_type": "stream",
          "name": "stdout",
          "text": [
            "[[76 83 63 89]\n",
            " [72 72 69 78]\n",
            " [73 69 62 69]\n",
            " [59 76 69 64]]\n",
            "[[-18 -11 -23 -21]\n",
            " [-36  -2  -9 -10]\n",
            " [-21 -37 -26 -35]\n",
            " [-13 -22  -5 -18]]\n",
            "[[1363 1692  860 1870]\n",
            " [ 972 1295 1170 1496]\n",
            " [1222  848  792  884]\n",
            " [ 828 1323 1184  943]]\n",
            "[[0.61702128 0.76595745 0.46511628 0.61818182]\n",
            " [0.33333333 0.94594595 0.76923077 0.77272727]\n",
            " [0.55319149 0.30188679 0.40909091 0.32692308]\n",
            " [0.63888889 0.55102041 0.86486486 0.56097561]]\n"
          ]
        }
      ]
    },
    {
      "cell_type": "markdown",
      "source": [
        "##array manipulation"
      ],
      "metadata": {
        "id": "ewFz-duMR73Q"
      }
    },
    {
      "cell_type": "code",
      "source": [
        "array=np.random.randint(0,10,(2,3))\n",
        "print(array)\n",
        "print(array.shape)"
      ],
      "metadata": {
        "colab": {
          "base_uri": "https://localhost:8080/"
        },
        "id": "isI8OrWzR_jX",
        "outputId": "bfa3b51d-93f5-4c0b-ec4c-08ad0da10a34"
      },
      "execution_count": null,
      "outputs": [
        {
          "output_type": "stream",
          "name": "stdout",
          "text": [
            "[[8 8 0]\n",
            " [4 0 9]]\n",
            "(2, 3)\n"
          ]
        }
      ]
    },
    {
      "cell_type": "code",
      "source": [
        "#transpose\n",
        "trans= np.transpose(array)\n",
        "print(trans)\n",
        "print(trans.shape)"
      ],
      "metadata": {
        "colab": {
          "base_uri": "https://localhost:8080/"
        },
        "id": "iyzEY5LYSUWS",
        "outputId": "1548079f-50ea-4cde-d1e2-6298cc0d8c25"
      },
      "execution_count": null,
      "outputs": [
        {
          "output_type": "stream",
          "name": "stdout",
          "text": [
            "[[8 4]\n",
            " [8 0]\n",
            " [0 9]]\n",
            "(3, 2)\n"
          ]
        }
      ]
    },
    {
      "cell_type": "code",
      "source": [
        "trans2 = array.T\n",
        "print(trans2)\n",
        "print(trans2.shape)"
      ],
      "metadata": {
        "colab": {
          "base_uri": "https://localhost:8080/"
        },
        "id": "rMZyZ_0dSf9-",
        "outputId": "e06cd432-9e2c-4003-95e2-5149bd16e86c"
      },
      "execution_count": null,
      "outputs": [
        {
          "output_type": "stream",
          "name": "stdout",
          "text": [
            "[[8 4]\n",
            " [8 0]\n",
            " [0 9]]\n",
            "(3, 2)\n"
          ]
        }
      ]
    },
    {
      "cell_type": "code",
      "source": [
        "#reshaping a array\n",
        "a =np.random.randint(0,10,(2,3))\n",
        "print(a)\n",
        "print(a.shape)\n"
      ],
      "metadata": {
        "colab": {
          "base_uri": "https://localhost:8080/"
        },
        "id": "r6klOThGTJOD",
        "outputId": "89deb00f-380f-490e-debc-915e816d5434"
      },
      "execution_count": null,
      "outputs": [
        {
          "output_type": "stream",
          "name": "stdout",
          "text": [
            "[[9 1 4]\n",
            " [0 6 1]]\n",
            "(2, 3)\n"
          ]
        }
      ]
    },
    {
      "cell_type": "code",
      "source": [
        "b = a.reshape(3,2)\n",
        "print(b)\n",
        "print(b.shape)"
      ],
      "metadata": {
        "colab": {
          "base_uri": "https://localhost:8080/"
        },
        "id": "8BzVx9IPTZzD",
        "outputId": "e9e49980-7665-4229-eb39-94e02741036f"
      },
      "execution_count": null,
      "outputs": [
        {
          "output_type": "stream",
          "name": "stdout",
          "text": [
            "[[9 1]\n",
            " [4 0]\n",
            " [6 1]]\n",
            "(3, 2)\n"
          ]
        }
      ]
    }
  ]
}